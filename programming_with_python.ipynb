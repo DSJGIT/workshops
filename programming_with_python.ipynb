{
 "cells": [
  {
   "cell_type": "markdown",
   "metadata": {},
   "source": [
    "# Programming with Python\n",
    "\n",
    "This notebook is designed to help cement your knowledge of Python syntax and methods. As you complete each challenge, you will practise foundational programming skills and develop your computational thinking abilities.\n",
    "\n",
    "The comments are there to guide you - read them carefully, but don't feel limited to them. We strongly encourage experimentation and additional commenting."
   ]
  },
  {
   "cell_type": "markdown",
   "metadata": {},
   "source": [
    "## Variables\n",
    "\n",
    "A variable is a **named** place to store a **value** that can **change**.\n",
    "\n",
    "Variables can have almost any name, as long as it is a single word (no spaces or punctuation), does not begin with a number, and is not a word that Python already knows."
   ]
  },
  {
   "cell_type": "code",
   "execution_count": 1,
   "metadata": {},
   "outputs": [
    {
     "name": "stdout",
     "output_type": "stream",
     "text": [
      "Remarkable\n",
      "24\n"
     ]
    }
   ],
   "source": [
    "# Assigning a number to a variable\n",
    "# Variable names should be clear and descriptive\n",
    "\n",
    "num = 23\n",
    "\n",
    "# Adding 1 to a variable\n",
    "\n",
    "num = num + 1\n",
    "\n",
    "# Assigning a variable based on user input \n",
    "\n",
    "word = input()\n",
    "\n",
    "# Displaying a variable\n",
    "\n",
    "print(num)"
   ]
  },
  {
   "cell_type": "markdown",
   "metadata": {},
   "source": [
    "### Challenge 1\n",
    "\n",
    "- Assign numbers to two different variables\n",
    "- Multiply the numbers and assign the result to a third variable\n",
    "- Display the value of the third variable"
   ]
  },
  {
   "cell_type": "code",
   "execution_count": 4,
   "metadata": {},
   "outputs": [
    {
     "name": "stdout",
     "output_type": "stream",
     "text": [
      "2327.5\n"
     ]
    }
   ],
   "source": [
    "first = 25\n",
    "second = 93.1\n",
    "third = first * second\n",
    "print(third)\n",
    "# NB Angel flags that you can write variable += 1 or variable -= 1 ratehr than variable = variable + 1"
   ]
  },
  {
   "cell_type": "markdown",
   "metadata": {},
   "source": [
    "## Data types\n",
    "\n",
    "Different kinds of information are stored as different variable types. Python recognises several different data basic types:\n",
    "\n",
    "* String - \"string\", str()\n",
    "* Integer - 1, int()\n",
    "* Float - 1.5, float()\n",
    "* Boolean - True, False\n",
    "\n",
    "Certain operations - like addition - work differently on different data types, so it is important to be clear on what type of value you have."
   ]
  },
  {
   "cell_type": "code",
   "execution_count": 5,
   "metadata": {},
   "outputs": [
    {
     "data": {
      "text/plain": [
       "'12'"
      ]
     },
     "execution_count": 5,
     "metadata": {},
     "output_type": "execute_result"
    }
   ],
   "source": [
    "# Assigning a string to a variable\n",
    "some_str = \"cat\"\n",
    "other_str = \"dog\"\n",
    "catdog = some_str + other_str\n",
    "\n",
    "# Converting an integer to a string and storing the string in a variable\n",
    "str(1) + str(2)\n",
    "\n",
    "# Converting a string to an integer and storing the integer in a variable\n",
    "\n"
   ]
  },
  {
   "cell_type": "markdown",
   "metadata": {},
   "source": [
    "### Challenge 2\n",
    "\n",
    "- Prompt the user to enter a **number**\n",
    "- Store the number as an integer in a `variable`\n",
    "- multiply the number by 7 and store the result in the same variable\n",
    "- Display a sentence about the number, including the number"
   ]
  },
  {
   "cell_type": "code",
   "execution_count": 6,
   "metadata": {},
   "outputs": [
    {
     "data": {
      "text/plain": [
       "True"
      ]
     },
     "execution_count": 6,
     "metadata": {},
     "output_type": "execute_result"
    }
   ],
   "source": [
    "str(1) == \"1\""
   ]
  },
  {
   "cell_type": "code",
   "execution_count": 7,
   "metadata": {},
   "outputs": [
    {
     "data": {
      "text/plain": [
       "False"
      ]
     },
     "execution_count": 7,
     "metadata": {},
     "output_type": "execute_result"
    }
   ],
   "source": [
    "str(1) == 1"
   ]
  },
  {
   "cell_type": "code",
   "execution_count": 14,
   "metadata": {},
   "outputs": [
    {
     "name": "stdout",
     "output_type": "stream",
     "text": [
      "6\n",
      "Your number is 6666666\n"
     ]
    }
   ],
   "source": [
    "number_input_by_user = input()\n",
    "# number_input_by_user = int(number_input_by_user)\n",
    "seven = number_input_by_user * 7\n",
    "print('Your number is',seven)\n",
    "   "
   ]
  },
  {
   "cell_type": "code",
   "execution_count": 15,
   "metadata": {},
   "outputs": [
    {
     "name": "stdout",
     "output_type": "stream",
     "text": [
      "Please enter a number: 4\n",
      "Your number was 4\n",
      "Your number is 28\n"
     ]
    }
   ],
   "source": [
    "# Or\n",
    "num = int(input(\"Please enter a number: \"))\n",
    "num2 = num * 7\n",
    "print(\"Your number was \" + str(num))\n",
    "print(\"Your number is\", num2)"
   ]
  },
  {
   "cell_type": "markdown",
   "metadata": {},
   "source": [
    "## Loops\n",
    "\n",
    "**Repeat** a **block** of code\n",
    "\n",
    "A FOR loop is used when you know how many times you need to loop.\n",
    "\n",
    "A WHILE loop is used when you are not sure how many times you will need to loop."
   ]
  },
  {
   "cell_type": "code",
   "execution_count": 22,
   "metadata": {},
   "outputs": [
    {
     "name": "stdout",
     "output_type": "stream",
     "text": [
      "1\n",
      "2\n",
      "3\n",
      "4\n",
      "5\n",
      "6\n",
      "7\n",
      "8\n",
      "9\n",
      "10\n",
      "stop\n",
      "11\n",
      "10\n",
      "9\n",
      "8\n",
      "7\n",
      "6\n",
      "5\n",
      "4\n",
      "3\n",
      "2\n"
     ]
    }
   ],
   "source": [
    "# A FOR loop that counts from 1 to 10, printing out each number\n",
    "\n",
    "# range (a,b) is from a to b-1\n",
    "# by convention i is used in these loops, standing for 'iterator', and goes through the values in the specified range\n",
    "# remember: a range starts inclusive and ends exclusive\n",
    "\n",
    "for i in range(1,11):\n",
    "    print(i)\n",
    "    \n",
    "print(\"stop\")\n",
    "    \n",
    "# Note the indentation in the loop above. The indented code by one tab runs every\n",
    "# time the loop runs. Unindented code is no longer in the loop\n",
    "# Colons are used for functions and loops, and force the indentation\n",
    "    \n",
    "# A WHILE loop that runs until a number is greater than 1000, doubling the number each time\n",
    "\n",
    "# NB There is a third argument, step\n",
    "\n",
    "for i in range(11,1,-1):\n",
    "    print(i)\n"
   ]
  },
  {
   "cell_type": "code",
   "execution_count": 24,
   "metadata": {},
   "outputs": [
    {
     "name": "stdout",
     "output_type": "stream",
     "text": [
      "10\n",
      "20\n",
      "40\n",
      "80\n",
      "160\n",
      "320\n",
      "640\n"
     ]
    }
   ],
   "source": [
    "# A WHILE loop that runs until a number is greater than 1000, doubling the number each time\n",
    "\n",
    "i = 10\n",
    "while i<1000:\n",
    "    print(i)\n",
    "    i *= 2\n",
    "    \n",
    "    "
   ]
  },
  {
   "cell_type": "markdown",
   "metadata": {},
   "source": [
    "### Challenge 3\n",
    "\n",
    "- Create a loop that counts from a user-entered number to a higher user-entered number"
   ]
  },
  {
   "cell_type": "code",
   "execution_count": 23,
   "metadata": {},
   "outputs": [
    {
     "name": "stdout",
     "output_type": "stream",
     "text": [
      "Please enter a start number: 3\n",
      "Please enter an end number which is higher than the start number: 6\n",
      "3\n",
      "4\n",
      "5\n",
      "stop\n"
     ]
    }
   ],
   "source": [
    "num1 = int(input(\"Please enter a start number: \"))\n",
    "num2 = int(input(\"Please enter an end number which is higher than the start number: \"))\n",
    "for i in range(num1,num2):\n",
    "    print(i)\n",
    "    \n",
    "print(\"stop\")"
   ]
  },
  {
   "cell_type": "code",
   "execution_count": 2,
   "metadata": {},
   "outputs": [
    {
     "name": "stdout",
     "output_type": "stream",
     "text": [
      "0\n",
      "1\n",
      "2\n",
      "3\n",
      "4\n",
      "5\n",
      "6\n",
      "7\n",
      "8\n",
      "9\n"
     ]
    }
   ],
   "source": [
    "for i in range(10):\n",
    "    print(i)"
   ]
  },
  {
   "cell_type": "markdown",
   "metadata": {},
   "source": [
    "### Challenge 4\n",
    "\n",
    "- Prompt the user to enter an integer\n",
    "- Keep prompting until the user enters a string of at least 4 characters"
   ]
  },
  {
   "cell_type": "code",
   "execution_count": null,
   "metadata": {},
   "outputs": [],
   "source": []
  },
  {
   "cell_type": "markdown",
   "metadata": {},
   "source": [
    "## Conditionals\n",
    "\n",
    "**Direct** a process based on **logic**\n",
    "\n",
    "IF statements evaluate logical statements, and then do different things based on whether the statements are  `True` or `False`.\n",
    "\n",
    "Every IF statement begins with an `if`.\n",
    "\n",
    "You can have as many `elif` statements as you want.\n",
    "\n",
    "If you have an `else` in your statement, it has to come at the end. `else` does not have a condition."
   ]
  },
  {
   "cell_type": "code",
   "execution_count": 26,
   "metadata": {},
   "outputs": [
    {
     "name": "stdout",
     "output_type": "stream",
     "text": [
      "nost\n"
     ]
    }
   ],
   "source": [
    "# An IF statement that prints out \"higher\" if a user-entered number is greater than 3\n",
    "\n",
    "i = 2\n",
    "\n",
    "if (i > 3) and (i < 10):\n",
    "# NB those brackets are Angel's touch, being more explicit\n",
    "    print(\"yes\")\n",
    "    \n",
    "elif (i < -1000):\n",
    "    print(\"maybst\")\n",
    "    \n",
    "else:\n",
    "    print(\"nost\")\n",
    "    \n",
    "# An IF statement including both elif and else\n",
    "\n"
   ]
  },
  {
   "cell_type": "markdown",
   "metadata": {},
   "source": [
    "### Challenge 5\n",
    "\n",
    "- Prompt the user for an animal\n",
    "- If the animal is a cat, print \"meow\"\n",
    "- If the animal is a dog, print \"woof\"\n",
    "- In all other situations, print \"squawk\""
   ]
  },
  {
   "cell_type": "code",
   "execution_count": 1,
   "metadata": {},
   "outputs": [
    {
     "name": "stdout",
     "output_type": "stream",
     "text": [
      "Please enter the name if your beast: cat\n",
      "Your beast says 'meow'\n"
     ]
    }
   ],
   "source": [
    "beast = input(\"Please enter the name if your beast: \")\n",
    "if beast == \"cat\":\n",
    "    print(\"Your beast says 'meow'\")\n",
    "    \n",
    "elif beast == \"dog\":\n",
    "    print(\"Your beast says 'woof'\")\n",
    "\n",
    "else:\n",
    "    print(\"Your beast says squawk\")"
   ]
  },
  {
   "cell_type": "markdown",
   "metadata": {},
   "source": [
    "### Challenge 6\n",
    "\n",
    "- Prompt the user for an integer\n",
    "- If the number is less than 17 and greater than 4, print \"just right\"\n",
    "- If the number is greater than 17 or under 0, print \"wrong size\"\n",
    "- If the number is exactly 3, print \"too three\"\n",
    "- In all other cases, print the number as many times as the number"
   ]
  },
  {
   "cell_type": "code",
   "execution_count": null,
   "metadata": {},
   "outputs": [],
   "source": [
    "numb = int(input(\"Please enter the name if your beast: \"))\n",
    "if (4 < numb < 17):\n",
    "    print(\"Just right\")\n",
    "\n",
    "elif (num > 17) or (num < 0):\n",
    "    print"
   ]
  },
  {
   "cell_type": "markdown",
   "metadata": {},
   "source": [
    "## Functions\n",
    "\n",
    "A **named**, **repeatable** block of code.\n",
    "\n",
    "A function must be `def`ined before it can be **called**.\n",
    "\n",
    "A function can `return` a value.\n",
    "\n",
    "Some functions take **arguments** when they are called.\n"
   ]
  },
  {
   "cell_type": "code",
   "execution_count": 7,
   "metadata": {},
   "outputs": [
    {
     "name": "stdout",
     "output_type": "stream",
     "text": [
      "Yo, bro\n",
      "8\n"
     ]
    }
   ],
   "source": [
    "# A function that takes a string as an argument and prints the string out 4 times\n",
    "\n",
    "def print_string(my_string):\n",
    "    print(my_string)\n",
    "    \n",
    "print_string(\"Yo, bro\")\n",
    "\n",
    "def zero_args():\n",
    "    print(\"Universally callable phrase\")\n",
    "    \n",
    "def add(num1, num2):\n",
    "    num3 = num1 + num2\n",
    "    return num3\n",
    "\n",
    "print(add(1,3)*2)\n",
    "\n",
    "# A function that adds 2 to a given number and returns the new value\n",
    "\n"
   ]
  },
  {
   "cell_type": "markdown",
   "metadata": {},
   "source": [
    "### Challenge 7\n",
    "\n",
    "- Create a function called `farewell` that takes one argument\n",
    "- The function should return the string \"Goodbye forever, \" concatenated with the argument"
   ]
  },
  {
   "cell_type": "code",
   "execution_count": null,
   "metadata": {},
   "outputs": [],
   "source": []
  },
  {
   "cell_type": "markdown",
   "metadata": {},
   "source": [
    "### Challenge 8\n",
    "\n",
    "- Create a function `addNums` that takes two arguments\n",
    "- If the first argument is below 0, the function should return 0\n",
    "- Otherwise, the function should return the two arguments added together"
   ]
  },
  {
   "cell_type": "code",
   "execution_count": 10,
   "metadata": {},
   "outputs": [
    {
     "name": "stdout",
     "output_type": "stream",
     "text": [
      "4\n"
     ]
    }
   ],
   "source": [
    "def addnums(num1,num2):\n",
    "# nb per Angel, you can specify your defaults eg\n",
    "# def addnums(num1=3,num2=5):\n",
    "    if num1 < 0:\n",
    "        return 0\n",
    "\n",
    "    else:\n",
    "        return num1 + num2\n",
    "    \n",
    "print(addnums(1,3))"
   ]
  },
  {
   "cell_type": "markdown",
   "metadata": {},
   "source": [
    "## Importing\n",
    "\n",
    "Including **external** code in your programs"
   ]
  },
  {
   "cell_type": "code",
   "execution_count": 8,
   "metadata": {},
   "outputs": [],
   "source": [
    "# Importing a whole module\n",
    "\n",
    "\n",
    "# Importing a module under a different name\n",
    "\n",
    "\n",
    "# Importing only part of a module\n",
    "\n",
    "\n",
    "# Using an imported function\n",
    "\n"
   ]
  },
  {
   "cell_type": "markdown",
   "metadata": {},
   "source": [
    "### Challenge 9\n",
    "\n",
    "* Import the `random` module\n",
    "* Create a function that returns a random integer between 0 and a user-entered value"
   ]
  },
  {
   "cell_type": "markdown",
   "metadata": {},
   "source": [
    "## Extra challenges"
   ]
  },
  {
   "cell_type": "markdown",
   "metadata": {},
   "source": [
    "Create a program in which:\n",
    "\n",
    "* The computer randomly generates a number\n",
    "* The user has five attempts to guess the number\n",
    "* After each guess, the computer outputs if the guess was too high or too low\n",
    "* If the user correctly guesses the number within five attempts, the guessing stops"
   ]
  },
  {
   "cell_type": "code",
   "execution_count": null,
   "metadata": {},
   "outputs": [],
   "source": []
  },
  {
   "cell_type": "markdown",
   "metadata": {},
   "source": [
    "Create a program in which:\n",
    "\n",
    "* The user enters two numbers\n",
    "* The user enters a mathematical operation (addition, subtraction, etc.)\n",
    "* The program outputs the result of the operation on the two numbers\n",
    "* The program restarts"
   ]
  },
  {
   "cell_type": "code",
   "execution_count": 15,
   "metadata": {},
   "outputs": [
    {
     "data": {
      "text/plain": [
       "5"
      ]
     },
     "execution_count": 15,
     "metadata": {},
     "output_type": "execute_result"
    }
   ],
   "source": [
    "# lists are ordered\n",
    "# they can contain different data types\n",
    "\n",
    "my_list = [1, 5, 'dog']\n",
    "my_list[1]"
   ]
  },
  {
   "cell_type": "code",
   "execution_count": 16,
   "metadata": {},
   "outputs": [
    {
     "ename": "SyntaxError",
     "evalue": "invalid syntax (<ipython-input-16-8a95462d63d0>, line 1)",
     "output_type": "error",
     "traceback": [
      "\u001b[1;36m  File \u001b[1;32m\"<ipython-input-16-8a95462d63d0>\"\u001b[1;36m, line \u001b[1;32m1\u001b[0m\n\u001b[1;33m    dict = {key1:, val1 ...}\u001b[0m\n\u001b[1;37m                 ^\u001b[0m\n\u001b[1;31mSyntaxError\u001b[0m\u001b[1;31m:\u001b[0m invalid syntax\n"
     ]
    }
   ],
   "source": [
    "dict = {key1:, val1 ...}"
   ]
  },
  {
   "cell_type": "code",
   "execution_count": null,
   "metadata": {},
   "outputs": [],
   "source": [
    "[] list mutable, ordered, indexed\n",
    "() tuple immutable, ordered, indexed\n",
    "{} dictionary mutable "
   ]
  }
 ],
 "metadata": {
  "kernelspec": {
   "display_name": "Python 3",
   "language": "python",
   "name": "python3"
  },
  "language_info": {
   "codemirror_mode": {
    "name": "ipython",
    "version": 3
   },
   "file_extension": ".py",
   "mimetype": "text/x-python",
   "name": "python",
   "nbconvert_exporter": "python",
   "pygments_lexer": "ipython3",
   "version": "3.7.1"
  }
 },
 "nbformat": 4,
 "nbformat_minor": 2
}
